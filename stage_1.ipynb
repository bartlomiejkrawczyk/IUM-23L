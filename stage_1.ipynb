{
 "cells": [
  {
   "attachments": {},
   "cell_type": "markdown",
   "metadata": {},
   "source": [
    "# Inżynieria Uczenia Maszynowego\n",
    "\n",
    "Studenci:\n",
    "```\n",
    "Bartłomiej Krawczyk\n",
    "Mateusz Brzozowski\n",
    "```"
   ]
  },
  {
   "attachments": {},
   "cell_type": "markdown",
   "metadata": {},
   "source": [
    "## Temat\n",
    "\n",
    "> “Jakiś czas temu wprowadziliśmy konta premium, które uwalniają użytkowników od słuchania reklam. Nie są one jednak jeszcze zbyt popularne – czy możemy się dowiedzieć, które osoby są bardziej skłonne do zakupu takiego konta?”\n"
   ]
  },
  {
   "attachments": {},
   "cell_type": "markdown",
   "metadata": {},
   "source": [
    "## Problem Biznesowy\n",
    "\n",
    "TODO"
   ]
  },
  {
   "attachments": {},
   "cell_type": "markdown",
   "metadata": {},
   "source": [
    "## Zadania Modelowania\n",
    "\n",
    "**Klasyfikacja (binarna)** - na podstawie danych zagregowanych danych użytkownika zebranych w pewnym okresie klasyfikujemy czy dany użytkownik kupi konto premium czy nie"
   ]
  },
  {
   "attachments": {},
   "cell_type": "markdown",
   "metadata": {},
   "source": [
    "## Założenia\n",
    "\n",
    "- kupiona usługa premium jest dożywotnia\n",
    "- polubienie piosenek jest jednorazowe oraz dożywotnie\n",
    "\n",
    "- przygotowując zbiory uczące oraz testowe nie bierzemy pod uwagę sesji użytkowników, którzy kupili w przeszłości konto premium - nasz system może od razu sklasyfikować osoby, które kupiły już premium, jako osoby skłonne do kupienie premium"
   ]
  },
  {
   "attachments": {},
   "cell_type": "markdown",
   "metadata": {},
   "source": [
    "## Proponowane Kryterium Sukcesu\n",
    "\n",
    "**Biznesowe:**\n",
    "\n",
    "Średnio większa ilość użytkowników kupujących konta premium w pewnym oknie czasowym, niż przed zastosowaniem naszego systemu.\n",
    "\n",
    "**Analityczne:**\n",
    "\n"
   ]
  },
  {
   "attachments": {},
   "cell_type": "markdown",
   "metadata": {},
   "source": [
    "## Analiza Danych\n"
   ]
  },
  {
   "attachments": {},
   "cell_type": "markdown",
   "metadata": {},
   "source": [
    "```mermaid\n",
    "erDiagram\n",
    "    ARTIST {\n",
    "        string id\n",
    "        string name\n",
    "        array-string genres\n",
    "    }\n",
    "\n",
    "    SESSION {\n",
    "        int session_id\n",
    "        int user_id\n",
    "        string track_id\n",
    "        string event_type\n",
    "        timestamp timestamp\n",
    "    }\n",
    "\n",
    "\n",
    "    TRACK {\n",
    "        string id\n",
    "        string id_artist\n",
    "        \n",
    "        string name\n",
    "        bigint duration_ms\n",
    "        \n",
    "        string release_date\n",
    "\n",
    "        bigint explicit\n",
    "        bigint key\n",
    "        bigint popularity\n",
    "        \n",
    "        double acousticness\n",
    "        double danceability\n",
    "        double energy\n",
    "        double instrumentalness\n",
    "        double liveness\n",
    "        double loudness\n",
    "        double speechiness\n",
    "        double tempo\n",
    "        double valence\n",
    "    }\n",
    "\n",
    "    ARTIST ||--o{ TRACK: creates\n",
    "    TRACK ||--|| TRACK_STORAGE : stores\n",
    "    SESSION }o--o| TRACK: plays\n",
    "\n",
    "\n",
    "    TRACK_STORAGE {\n",
    "        string track_id\n",
    "        string storage_class\n",
    "        double daily_cost\n",
    "    }\n",
    "\n",
    "    USER {\n",
    "        int user_id\n",
    "        boolean premium_user\n",
    "        string name\n",
    "        string city\n",
    "        array-string favourite_genres\n",
    "    }\n",
    "\n",
    "    USER ||--o{ SESSION : listens_to\n",
    "```"
   ]
  },
  {
   "attachments": {},
   "cell_type": "markdown",
   "metadata": {},
   "source": [
    "### Dane V1\n"
   ]
  },
  {
   "attachments": {},
   "cell_type": "markdown",
   "metadata": {},
   "source": [
    "### Dane V2\n"
   ]
  }
 ],
 "metadata": {
  "language_info": {
   "name": "python"
  },
  "orig_nbformat": 4
 },
 "nbformat": 4,
 "nbformat_minor": 2
}
