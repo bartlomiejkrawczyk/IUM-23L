{
 "cells": [
  {
   "attachments": {},
   "cell_type": "markdown",
   "metadata": {},
   "source": [
    "# Inżynieria Uczenia Maszynowego\n",
    "\n",
    "Studenci:\n",
    "```\n",
    "Bartłomiej Krawczyk\n",
    "Mateusz Brzozowski\n",
    "```"
   ]
  },
  {
   "attachments": {},
   "cell_type": "markdown",
   "metadata": {},
   "source": [
    "## Temat\n",
    "\n",
    "> “Jakiś czas temu wprowadziliśmy konta premium, które uwalniają użytkowników od słuchania reklam. Nie są one jednak jeszcze zbyt popularne – czy możemy się dowiedzieć, które osoby są bardziej skłonne do zakupu takiego konta?”\n"
   ]
  },
  {
   "attachments": {},
   "cell_type": "markdown",
   "metadata": {},
   "source": [
    "# Szczegółowy opis tematu\n",
    "W ramach projektu wcielamy się w rolę analityka pracującego dla portalu „Pozytywka” -\n",
    "serwisu muzycznego, który swoim użytkownikom pozwala na odtwarzanie ulubionych utworów\n",
    "online. Praca na tym stanowisku nie jest łatwa - zadanie dostajemy w formie enigmatycznego opisu\n",
    "i to do nas należy doprecyzowanie szczegółów tak, aby dało się je zrealizować. To oczywiście\n",
    "wymaga zrozumienia problemu, przeanalizowania danych, czasami negocjacji z szefostwem.\n",
    "Same modele musimy skonstruować tak, aby gotowe były do wdrożenia produkcyjnego -\n",
    "pamiętając, że w przyszłości będą pojawiać się kolejne ich wersje, z którymi będziemy\n",
    "eksperymentować.\n",
    "\n",
    "Jak każda szanująca się firma internetowa, Pozytywka zbiera dane dotyczące swojej działalności - są to:\n",
    "\n",
    "- lista dostępnych artystów i utworów muzycznych,\n",
    "- baza użytkowników,\n",
    "- historia sesji użytkowników,\n",
    "- techniczne informacje dot. poziomu cache dla poszczególnych utworów.\n",
    "\n",
    "(analitycy mogą wnioskować o dostęp do tych informacji na potrzeby realizacji zadania)"
   ]
  },
  {
   "attachments": {},
   "cell_type": "markdown",
   "metadata": {},
   "source": [
    "# Problem biznesowy\n",
    "\n",
    "## Określenie celu biznesowego\n",
    "\n",
    "### Opis kontekstu\n",
    "Portal \"Pozytywka\" oferuje użytkownikom możliwość odtwarzania ulubionych utworów online, zarówno w wersji darmowej, jak i wersji premium. Firma chce przekonać użytkowników, że warto płacić za konto premium i zwiększyć liczbę osób, które decydują się na zakup takiego konta. Aby zachęcić użytkowników do zakupu konta premium, niezbędne są dane dotyczące ich skłonności do wykonywania tej akcji. Pozwolą one na precyzyjne dostosowanie działań marketingowych.\n",
    "\n",
    "### Zdefiniowanie celów biznesowych.\n",
    "Celem biznesowym jest zwiększenie liczby użytkowników korzystających z konta premium, co przyczyni się do zwiększenia przychodów serwisu \"Pozytywka\". Chcemy stworzyć model, który pozwoli nam na przewidywanie, którzy użytkownicy są bardziej skłonni do zakupu konta premium, aby móc ich nakłonić do zakupu. Model powinien działać na bieżąco, a jego wyniki powinny być użyte do podejmowania decyzji biznesowych, takich jak targetowanie reklam odtwarzanych użytkownikom non-premium.\n",
    "\n",
    "### Biznesowe kryterium sukcesu.\n",
    "- Wzrost liczby użytkowników premium - sukces będzie mierzony wzrostem liczby użytkowników premium po wdrożeniu modelu predykcyjnego.\n",
    "- Zwiększenie przychodów - sukces będzie mierzony wzrostem przychodów portalu po wdrożeniu modelu predykcyjnego.\n",
    "- Zmniejszenie kosztów kampanii reklamowych promującej premium, poprzez targetowanie ich na użytkowników z większą skłonnością do zakupu konta premium."
   ]
  },
  {
   "attachments": {},
   "cell_type": "markdown",
   "metadata": {},
   "source": [
    "## Określenie celów modelowania.\n",
    "### Opis zadań modelowania.\n",
    "W ramach tego zadania analitycznego zajmujemy się **klasyfikacją binarną** użytkowników portalu \"Pozytywka\" na podstawie danych zebranych w pewnym okresie. Naszym celem jest określenie, czy dany użytkownik kupi konto premium, czy nie. W pierwszej kolejności dokonujemy agregacji tych danych i tworzymy z nich wektory cech dla każdego użytkownika. Następnie wykorzystujemy różne modele klasyfikacyjne, takie jak np. regresja logistyczna czy drzewa decyzyjne, aby przewidzieć, czy użytkownik kupi konto premium, czy też nie.\n",
    "### Definicja kryteriów sukcesu z perspektywy analitycznej.\n",
    "Podzielimy grupę testową na dwie podgrupy - jedna nadal korzysta z portalu w sposób niezmieniony, a druga podgrupa korzysta z portalu z zastosowaniem naszego modelu. Dzięki takiemu podziałowi będziemy mogli przeprowadzić analityczne porównanie wyników sprzedaży kont premium między tymi dwiema podgrupami i dokładnie ocenić skuteczność działania naszego modelu."
   ]
  },
  {
   "attachments": {},
   "cell_type": "markdown",
   "metadata": {},
   "source": [
    "## Ocena aktualnej sytuacji.\n",
    "\n",
    "### Spis dostępnych zasobów.\n",
    "- Lista dostępnych artystów i utworów muzycznych.\n",
    "- Baza 20 tyś. użytkowników z 50 tyś. wszystkich osób korzystających z platformy\n",
    "- Historia sesji użytkowników.\n",
    "- Techniczne informacje dotyczące poziomu cache dla poszczególnych utworów.\n",
    "### Założenia:\n",
    "- Kupiona usługa premium jest trwała i nie ma potrzeby jej ponownego zakupu.\n",
    "- Polubienie piosenek jest jednorazowe i utrzymuje się przez cały okres użytkowania platformy.\n",
    "- Dane są agregowane dla miesięcznych okien czasowych.\n",
    "- Użytkownicy, którzy nie posiadają konta premium, mają zazwyczaj mniejszy stosunek czasu słuchania muzyki do czasu odtwarzania reklam niż użytkownicy posiadający konto premium. W związku z tym, jeśli bierzemy pod uwagę sesje użytkowników, którzy już zakupili premium, mogłoby to wpłynąć na wyniki modelu i sugerować zmniejszenie ilości odtwarzanych reklam tylko po to, aby użytkownicy zdecydowali się na zakup konta premium. Aby uniknąć takiej sytuacji, sesje użytkowników, którzy już zakupili konto premium, nie będą brane pod uwagę w procesie trenowania modelu klasyfikacji.\n",
    "- Nie ma ograniczeń na ilość reklam, które można wyświetlić w danym czasie, ponieważ platforma może sama reklamować swoje usługi premium.\n",
    "### Ograniczenia:\n",
    "- Posiadamy dane dotyczące tylko 40% użytkowników korzystających z platformy.\n",
    "- Posiadamy dane z sesji sprzed 3 lat.\n",
    "- Model klasyfikacji opiera się tylko na danych zgromadzonych wewnątrz platformy, nie uwzględniając zewnętrznych czynników wpływających na decyzje użytkowników.\n",
    "- Działamy tylko na historii danych dostępnych do końca danego okresu."
   ]
  },
  {
   "attachments": {},
   "cell_type": "markdown",
   "metadata": {},
   "source": [
    "## Przygotowanie planu projektu.\n",
    "### Plan etapów projektu.\n",
    "### Wstępne propozycje narzędzi i metod.\n"
   ]
  },
  {
   "attachments": {},
   "cell_type": "markdown",
   "metadata": {},
   "source": [
    "## Analiza Danych\n"
   ]
  },
  {
   "attachments": {},
   "cell_type": "markdown",
   "metadata": {},
   "source": [
    "```mermaid\n",
    "erDiagram\n",
    "    ARTIST {\n",
    "        string id\n",
    "        string name\n",
    "        array-string genres\n",
    "    }\n",
    "\n",
    "    SESSION {\n",
    "        int session_id\n",
    "        int user_id\n",
    "        string track_id\n",
    "        string event_type\n",
    "        timestamp timestamp\n",
    "    }\n",
    "\n",
    "\n",
    "    TRACK {\n",
    "        string id\n",
    "        string id_artist\n",
    "        \n",
    "        string name\n",
    "        bigint duration_ms\n",
    "        \n",
    "        string release_date\n",
    "\n",
    "        bigint explicit\n",
    "        bigint key\n",
    "        bigint popularity\n",
    "        \n",
    "        double acousticness\n",
    "        double danceability\n",
    "        double energy\n",
    "        double instrumentalness\n",
    "        double liveness\n",
    "        double loudness\n",
    "        double speechiness\n",
    "        double tempo\n",
    "        double valence\n",
    "    }\n",
    "\n",
    "    ARTIST ||--o{ TRACK: creates\n",
    "    TRACK ||--|| TRACK_STORAGE : stores\n",
    "    SESSION }o--o| TRACK: plays\n",
    "\n",
    "\n",
    "    TRACK_STORAGE {\n",
    "        string track_id\n",
    "        string storage_class\n",
    "        double daily_cost\n",
    "    }\n",
    "\n",
    "    USER {\n",
    "        int user_id\n",
    "        boolean premium_user\n",
    "        string name\n",
    "        string city\n",
    "        array-string favourite_genres\n",
    "    }\n",
    "\n",
    "    USER ||--o{ SESSION : listens_to\n",
    "```"
   ]
  },
  {
   "attachments": {},
   "cell_type": "markdown",
   "metadata": {},
   "source": [
    "Informacje od klienta:\n",
    "- System oferuje tylko jedną ofertę konta premium\n",
    "- Konta premium nie można dzielić\n",
    "- System obsługuje obecnie ok. 50 tys. użytkowników\n",
    "- Reklamy zmieniają się w zależności od konkretnych umów z innymi podmiotami. Za dobór częstotliwości reklam odpowiada nasz autorski algorytm.\n",
    "- Dane dostępne są w formacie plików JSON.\n",
    "- Dane są uwspólnione, a ew. różnice wynikające ze sposobu ich zbierania zostały usunięte.\n",
    "- Nie posiadamy takiego systemu, który stara się przewidzieć kto jest skłonny do zakupu konta premium\n",
    "- Klient jest naszym ekspertem domenowym"
   ]
  },
  {
   "attachments": {},
   "cell_type": "markdown",
   "metadata": {},
   "source": [
    "### Dane V1\n",
    "\n",
    "[Quality Report V1](./quality_check/v1/quality_v1.pdf)\n",
    "\n",
    "Błędy w danych:\n",
    "- W kolumanch znajduje się dużo identyfikatorów o \"id\": -1.\n",
    "- W pliku sessions.jsonl mamy null'e w kolumnie \"user_id\"\n",
    "- Favourite_genres zawiera rekordy null\n",
    "- \"premium_user\" zawiera rekordy null. W tej kolumnie nie widzimy wartości false.\n",
    "- 5 użytkowników ma pole o nazwie \"id\"\n",
    "- W sessions, user_id oraz track_id są nullami, szczególnie gdy event_type jest ustawione na ADVERTISEMENT lub BUY_PREMIUM.\n",
    "- event_type zawiera rekordy null\n",
    "- Tylko 4 rekordy dla przypadku \"FAST\"\n",
    "- W tracks, acousticness, danceability, speechiness, tempo, valence, energy są zerami\n",
    "- W tracks kolumny id, id_artists zaeirają nulle\n",
    "- W sessions jest mało rekordów zawierających wystąpienia pól ADVERTISEMENT i BUY_PREMIUM\n",
    "- Dane z krótkiego okresu działania funkcji PREMIUM\n",
    "- Średnia głośność (loudness) w decybelach, typowo od -60 do 0dB, dane posiadają zakres od -60 do 4.8 dB.\n",
    "\n",
    "Wnioski wyciągnięte na podstawie danych, a także informacje dostarczone przez klienta:\n",
    "- Posiadamy dostęp do danych ok. 20k użytkowników\n",
    "- Reklamy są przechowywane w chmurze.\n",
    "- Kolumna key: liczby w https://en.wikipedia.org/wiki/Pitch_class\n",
    "- Kolumna instrumentalness: przewidywanie czy utwór posiada wokal, im bliżej 1.0 tym wyższe prawdopodobieństwo, że utwór jest instrumentalny. Wartości powyżej 0.5 można traktować jak utwory instrumentalne\n",
    "- Przewidzenie czy dany użytownik jest skłonny do zakupu takiego konta\n",
    "- Możecie Państwo sami ustalić format danych przyjmowanych/odsyłanych\n",
    "- Określenie przynależności danego użytkownika\n"
   ]
  },
  {
   "attachments": {},
   "cell_type": "markdown",
   "metadata": {},
   "source": [
    "### Dane V2\n",
    "[Quality Report V2](./quality_check/v2/quality_v2.pdf)\n",
    "\n",
    "Wnioski wyciągnięte na podstawie danych, a także informacje dostarczone przez klienta:\n",
    "- BUY_PREMIUM jest dożywotnie\n",
    "- polubienie piosenki jest jest jednorazowe i dożywotnie\n",
    "- nie mamy informacji o gatunkach per utwór, tak więc zakładamy, że jeśli dany artysta tworzy muzykę w danym gatunku, to jego wszystkie utwory należą do tych samych gatunków\n",
    "- System pozwala dodać piosenki o takiej samej nazwie\n",
    "- System pozwala założyć konta artystom o tej samej nazwie\n",
    "- Artyści mogą maksymalnie wstawiać utwory o długości trwania poniżej 2h\n",
    "- release_date jest czasami datą w formacie YYYY-MM-DD, a czasami YYYY\n",
    "- instrumentalness równe 0.0 w 46190 przypadków i oznacza, że algorytmy są pewne, że piosenka zawiera wokal\n",
    "- w popularity występuje pik w 0.0, większość piosenek nie jest zbyt popularna\n",
    "- track_id = '' w przypadku reklam (1288318 przypadków) oznacza, że reklama pochodzi z chmury i nie mamy informacji o tej reklamie\n",
    "- 118940 utworów muzycznych nigdy nie było odsłuchane, są mało popularne\n",
    "- na potrzeby tego projektu użytkownicy są jedynie z największych miast w polsce?\n",
    "- W tabeli artyści zdefiniowanych jest 3912 unikalnych gatunków muzyki, a wśród udostępnionych użytkowników występuje jedynie 50 z tych gatunków. Dla wielu z gatunków mamy tak mało danych, że preferujemy skupić się na najbardziej popularnych gatunkach muzycznych\n",
    "\n",
    "Błędy w danych:\n",
    "- Występuje 41 rekordów loudness o wartościach większych niż 0.0.\n",
    "- tempo równe 0.0 w 48 przypadkach"
   ]
  },
  {
   "cell_type": "code",
   "execution_count": null,
   "metadata": {},
   "outputs": [],
   "source": [
    "import pandas as pd\n",
    "import os\n",
    "from IPython.display import display"
   ]
  },
  {
   "cell_type": "code",
   "execution_count": null,
   "metadata": {},
   "outputs": [],
   "source": [
    "FEATURE_VERSION = 'v1'\n",
    "\n",
    "TARGET = [\n",
    "    \"premium_user_numerical\",\n",
    "    \"will_buy_premium_next_month_numerical\"\n",
    "]\n",
    "\n",
    "FEATURES = [\n",
    "    'number_of_premium',\n",
    "    'number_of_advertisements',\n",
    "    'number_of_tracks',\n",
    "    'number_of_skips',\n",
    "    'number_of_likes',\n",
    "    'number_of_liked_tracks_listened',\n",
    "    'number_of_tracks_in_favourite_genre',\n",
    "    'total_number_of_favourite_genres_listened',\n",
    "    'average_popularity_in_favourite_genres',\n",
    "    'total_tracks_duration_ms',\n",
    "    'number_of_different_artists',\n",
    "    'average_release_date',\n",
    "    'average_duration_ms',\n",
    "    'explicit_tracks_ratio',\n",
    "    'average_popularity',\n",
    "    'average_acousticness',\n",
    "    'average_danceability',\n",
    "    'average_energy',\n",
    "    'average_instrumentalness',\n",
    "    'average_liveness',\n",
    "    'average_loudness',\n",
    "    'average_speechiness',\n",
    "    'average_tempo',\n",
    "    'average_valence',\n",
    "    'average_track_name_length',\n",
    "    'average_daily_cost'\n",
    "]"
   ]
  },
  {
   "cell_type": "code",
   "execution_count": null,
   "metadata": {},
   "outputs": [],
   "source": [
    "feature_path = os.path.join('features', FEATURE_VERSION, 'feature.csv')\n",
    "dataframe = pd.read_csv(feature_path)"
   ]
  },
  {
   "cell_type": "code",
   "execution_count": null,
   "metadata": {},
   "outputs": [],
   "source": [
    "display(dataframe)"
   ]
  },
  {
   "cell_type": "code",
   "execution_count": null,
   "metadata": {},
   "outputs": [],
   "source": [
    "TARGET_AND_FEATURES = TARGET + FEATURES"
   ]
  },
  {
   "cell_type": "code",
   "execution_count": null,
   "metadata": {},
   "outputs": [],
   "source": [
    "dataframe.loc[:, TARGET_AND_FEATURES].corr(method='pearson')"
   ]
  },
  {
   "cell_type": "code",
   "execution_count": null,
   "metadata": {},
   "outputs": [],
   "source": [
    "dataframe.loc[:, TARGET_AND_FEATURES].corr(method='spearman')"
   ]
  },
  {
   "cell_type": "code",
   "execution_count": null,
   "metadata": {},
   "outputs": [],
   "source": [
    "from sklearn.linear_model import LogisticRegression\n",
    "from sklearn.model_selection import train_test_split\n",
    "\n",
    "\n",
    "for target in TARGET:\n",
    "    X_train, X_test, y_train, y_test = train_test_split(dataframe.loc[:, FEATURES], dataframe.loc[:, target], test_size=0.25)\n",
    "    model = LogisticRegression()\n",
    "    model.fit(X_train, y_train)\n",
    "    print(target)\n",
    "    display(dataframe[target].value_counts(normalize=True))\n",
    "    print('train_set_score = ', model.score(X_train, y_train))\n",
    "    print('test_set_score = ', model.score(X_test, y_test))"
   ]
  }
 ],
 "metadata": {
  "kernelspec": {
   "display_name": ".venv",
   "language": "python",
   "name": "python3"
  },
  "language_info": {
   "codemirror_mode": {
    "name": "ipython",
    "version": 3
   },
   "file_extension": ".py",
   "mimetype": "text/x-python",
   "name": "python",
   "nbconvert_exporter": "python",
   "pygments_lexer": "ipython3",
   "version": "3.10.6"
  },
  "orig_nbformat": 4
 },
 "nbformat": 4,
 "nbformat_minor": 2
}
