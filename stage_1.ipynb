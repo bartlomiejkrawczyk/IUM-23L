{
 "cells": [
  {
   "attachments": {},
   "cell_type": "markdown",
   "metadata": {},
   "source": [
    "# Inżynieria Uczenia Maszynowego\n",
    "\n",
    "Studenci:\n",
    "```\n",
    "Bartłomiej Krawczyk\n",
    "Mateusz Brzozowski\n",
    "```"
   ]
  },
  {
   "attachments": {},
   "cell_type": "markdown",
   "metadata": {},
   "source": [
    "## Temat\n",
    "\n",
    "> “Jakiś czas temu wprowadziliśmy konta premium, które uwalniają użytkowników od słuchania reklam. Nie są one jednak jeszcze zbyt popularne – czy możemy się dowiedzieć, które osoby są bardziej skłonne do zakupu takiego konta?”\n"
   ]
  },
  {
   "attachments": {},
   "cell_type": "markdown",
   "metadata": {},
   "source": [
    "# Szczegółowy opis tematu\n",
    "W ramach projektu wcielamy się w rolę analityka pracującego dla portalu „Pozytywka” -\n",
    "serwisu muzycznego, który swoim użytkownikom pozwala na odtwarzanie ulubionych utworów\n",
    "online. Praca na tym stanowisku nie jest łatwa - zadanie dostajemy w formie enigmatycznego opisu\n",
    "i to do nas należy doprecyzowanie szczegółów tak, aby dało się je zrealizować. To oczywiście\n",
    "wymaga zrozumienia problemu, przeanalizowania danych, czasami negocjacji z szefostwem.\n",
    "Same modele musimy skonstruować tak, aby gotowe były do wdrożenia produkcyjnego -\n",
    "pamiętając, że w przyszłości będą pojawiać się kolejne ich wersje, z którymi będziemy\n",
    "eksperymentować.\n",
    "\n",
    "Jak każda szanująca się firma internetowa, Pozytywka zbiera dane dotyczące swojej działalności - są to:\n",
    "\n",
    "- lista dostępnych artystów i utworów muzycznych,\n",
    "- baza użytkowników,\n",
    "- historia sesji użytkowników,\n",
    "- techniczne informacje dot. poziomu cache dla poszczególnych utworów.\n",
    "\n",
    "(analitycy mogą wnioskować o dostęp do tych informacji na potrzeby realizacji zadania)"
   ]
  },
  {
   "attachments": {},
   "cell_type": "markdown",
   "metadata": {},
   "source": [
    "# Problem biznesowy\n",
    "\n",
    "## Określenie celu biznesowego\n",
    "\n",
    "### Opis kontekstu\n",
    "Portal \"Pozytywka\" oferuje użytkownikom możliwość odtwarzania ulubionych utworów online, zarówno w wersji darmowej, jak i wersji premium. Firma chce przekonać użytkowników, że warto płacić za konto premium i zwiększyć liczbę osób, które decydują się na zakup takiego konta. Aby zachęcić użytkowników do zakupu konta premium, niezbędne są dane dotyczące ich skłonności do wykonywania tej akcji. Pozwolą one na precyzyjne dostosowanie działań marketingowych.\n",
    "\n",
    "### Zdefiniowanie celów biznesowych.\n",
    "- Zwiększenie liczby użytkowników premium - celem biznesowym jest zwiększenie liczby użytkowników premium na portalu \"Pozytywka\".\n",
    "- Zwiększenie przychodów - jednym z celów biznesowych jest zwiększenie przychodów portalu poprzez zwiększenie liczby użytkowników premium.\n",
    "\n",
    "Celem biznesowym jest zwiększenie liczby użytkowników korzystających z konta premium, co przyczyni się do zwiększenia przychodów serwisu \"Pozytywka\". Chcemy stworzyć model, który pozwoli nam na przewidywanie, którzy użytkownicy są bardziej skłonni do zakupu konta premium, aby móc ich nakłonić do zakupu. Model powinien działać na bieżąco, a jego wyniki powinny być użyte do podejmowania decyzji biznesowych, takich jak manipulowanie ilością reklam wyświetlanych użytkownikom non-premium.\n",
    "\n",
    "### Biznesowe kryterium sukcesu.\n",
    "- Wzrost liczby użytkowników premium - sukces będzie mierzony wzrostem liczby użytkowników premium po wdrożeniu modelu predykcyjnego.\n",
    "- Zwiększenie przychodów - sukces będzie mierzony wzrostem przychodów portalu po wdrożeniu modelu predykcyjnego.\n",
    "- Zmniejszenie kosztów kampanii reklamowych promującej premium, poprzez targetowanie ich na użytkowników z większą skłonnością do zakupu konta premium."
   ]
  },
  {
   "attachments": {},
   "cell_type": "markdown",
   "metadata": {},
   "source": [
    "## Określenie celów modelowania.\n",
    "### Opis zadań modelowania.\n",
    "W ramach tego zadania analitycznego zajmujemy się **klasyfikacją binarną** użytkowników portalu \"Pozytywka\" na podstawie danych zebranych w pewnym okresie. Naszym celem jest określenie, czy dany użytkownik kupi konto premium, czy nie. W pierwszej kolejności dokonujemy agregacji tych danych i tworzymy z nich wektory cech dla każdego użytkownika. Następnie wykorzystujemy różne modele klasyfikacyjne, takie jak np. regresja logistyczna czy drzewa decyzyjne, aby przewidzieć, czy użytkownik kupi konto premium, czy też nie.\n",
    "### Definicja kryteriów sukcesu z perspektywy analitycznej.\n",
    "Podzielimy grupę testową na dwie podgrupy - jedna nadal korzysta z portalu w sposób niezmieniony, a druga podgrupa korzysta z portalu z zastosowaniem naszego modelu. Dzięki takiemu podziałowi będziemy mogli przeprowadzić analityczne porównanie wyników sprzedaży kont premium między tymi dwiema podgrupami i dokładnie ocenić skuteczność działania naszego modelu."
   ]
  },
  {
   "attachments": {},
   "cell_type": "markdown",
   "metadata": {},
   "source": [
    "## Założenia\n",
    "\n",
    "- kupiona usługa premium jest dożywotnia\n",
    "- polubienie piosenek jest jednorazowe oraz dożywotnie\n",
    "\n",
    "- przygotowując zbiory uczące oraz testowe nie bierzemy pod uwagę sesji użytkowników, którzy kupili w przeszłości konto premium - nasz system może od razu sklasyfikować osoby, które kupiły już premium, jako osoby skłonne do kupienie premium\n",
    "\n",
    "## Ocena aktualnej sytuacji.\n",
    "\n",
    "### Spis dostępnych zasobów.\n",
    "- Lista dostępnych artystów i utworów muzycznych.\n",
    "- Baza 20 tyś. użytkowników z 50 tyś. wszystkich osób korzystających z platformy\n",
    "- Historia sesji użytkowników.\n",
    "- Techniczne informacje dotyczące poziomu cache dla poszczególnych utworów.\n",
    "### Założenia:\n",
    "- Kupiona usługa premium jest trwała i nie ma potrzeby jej ponownego zakupu.\n",
    "- Polubienie piosenek jest jednorazowe i utrzymuje się przez cały okres użytkowania platformy.\n",
    "- Dane są agregowane dla miesięcznych okien czasowych.\n",
    "- Użytkownicy, którzy nie posiadają konta premium, mają zazwyczaj mniejszy stosunek czasu słuchania muzyki do czasu odtwarzania reklam niż użytkownicy posiadający konto premium. W związku z tym, jeśli bierzemy pod uwagę sesje użytkowników, którzy już zakupili premium, mogłoby to wpłynąć na wyniki modelu i sugerować zmniejszenie ilości odtwarzanych reklam tylko po to, aby użytkownicy zdecydowali się na zakup konta premium. Aby uniknąć takiej sytuacji, sesje użytkowników, którzy już zakupili konto premium, nie będą brane pod uwagę w procesie trenowania modelu klasyfikacji.\n",
    "- Nie ma ograniczeń na ilość reklam, które można wyświetlić w danym czasie, ponieważ platforma może sama reklamować swoje usługi premium.\n",
    "### Ograniczenia:\n",
    "- Posiadamy dane dotyczące tylko 40% użytkowników korzystających z platformy.\n",
    "- Posiadamy dane z sesji sprzed 3 lat.\n",
    "- Model klasyfikacji opiera się tylko na danych zgromadzonych wewnątrz platformy, nie uwzględniając zewnętrznych czynników wpływających na decyzje użytkowników.\n",
    "- Działamy tylko na historii danych dostępnych do końca danego okresu."
   ]
  },
  {
   "attachments": {},
   "cell_type": "markdown",
   "metadata": {},
   "source": [
    "## Przygotowanie planu projektu.\n",
    "### Plan etapów projektu.\n",
    "### Wstępne propozycje narzędzi i metod.\n"
   ]
  },
  {
   "attachments": {},
   "cell_type": "markdown",
   "metadata": {},
   "source": [
    "## Analiza Danych\n"
   ]
  },
  {
   "attachments": {},
   "cell_type": "markdown",
   "metadata": {},
   "source": [
    "```mermaid\n",
    "erDiagram\n",
    "    ARTIST {\n",
    "        string id\n",
    "        string name\n",
    "        array-string genres\n",
    "    }\n",
    "\n",
    "    SESSION {\n",
    "        int session_id\n",
    "        int user_id\n",
    "        string track_id\n",
    "        string event_type\n",
    "        timestamp timestamp\n",
    "    }\n",
    "\n",
    "\n",
    "    TRACK {\n",
    "        string id\n",
    "        string id_artist\n",
    "        \n",
    "        string name\n",
    "        bigint duration_ms\n",
    "        \n",
    "        string release_date\n",
    "\n",
    "        bigint explicit\n",
    "        bigint key\n",
    "        bigint popularity\n",
    "        \n",
    "        double acousticness\n",
    "        double danceability\n",
    "        double energy\n",
    "        double instrumentalness\n",
    "        double liveness\n",
    "        double loudness\n",
    "        double speechiness\n",
    "        double tempo\n",
    "        double valence\n",
    "    }\n",
    "\n",
    "    ARTIST ||--o{ TRACK: creates\n",
    "    TRACK ||--|| TRACK_STORAGE : stores\n",
    "    SESSION }o--o| TRACK: plays\n",
    "\n",
    "\n",
    "    TRACK_STORAGE {\n",
    "        string track_id\n",
    "        string storage_class\n",
    "        double daily_cost\n",
    "    }\n",
    "\n",
    "    USER {\n",
    "        int user_id\n",
    "        boolean premium_user\n",
    "        string name\n",
    "        string city\n",
    "        array-string favourite_genres\n",
    "    }\n",
    "\n",
    "    USER ||--o{ SESSION : listens_to\n",
    "```"
   ]
  },
  {
   "attachments": {},
   "cell_type": "markdown",
   "metadata": {},
   "source": [
    "### Dane V1\n"
   ]
  },
  {
   "attachments": {},
   "cell_type": "markdown",
   "metadata": {},
   "source": [
    "### Dane V2\n"
   ]
  }
 ],
 "metadata": {
  "language_info": {
   "name": "python"
  },
  "orig_nbformat": 4
 },
 "nbformat": 4,
 "nbformat_minor": 2
}
