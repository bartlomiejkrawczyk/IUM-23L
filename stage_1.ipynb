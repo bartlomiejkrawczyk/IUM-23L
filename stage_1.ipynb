{
 "cells": [
  {
   "attachments": {},
   "cell_type": "markdown",
   "metadata": {},
   "source": [
    "# Inżynieria Uczenia Maszynowego\n",
    "\n",
    "Studenci:\n",
    "```\n",
    "Bartłomiej Krawczyk\n",
    "Mateusz Brzozowski\n",
    "```"
   ]
  },
  {
   "attachments": {},
   "cell_type": "markdown",
   "metadata": {},
   "source": [
    "## Temat\n",
    "\n",
    "> “Jakiś czas temu wprowadziliśmy konta premium, które uwalniają użytkowników od słuchania reklam. Nie są one jednak jeszcze zbyt popularne – czy możemy się dowiedzieć, które osoby są bardziej skłonne do zakupu takiego konta?”\n"
   ]
  },
  {
   "attachments": {},
   "cell_type": "markdown",
   "metadata": {},
   "source": [
    "## Problem Biznesowy\n",
    "\n",
    "TODO"
   ]
  },
  {
   "attachments": {},
   "cell_type": "markdown",
   "metadata": {},
   "source": [
    "## Zadania Modelowania\n",
    "\n",
    "**Klasyfikacja (binarna)** - na podstawie danych zagregowanych danych użytkownika zebranych w pewnym okresie ustalamy klasyfikujemy czy dany użytkownik kupi konto premium czy nie"
   ]
  },
  {
   "attachments": {},
   "cell_type": "markdown",
   "metadata": {},
   "source": [
    "## Założenia\n",
    "\n",
    "- kupiona usługa premium jest dożywotnia\n",
    "- polubienie piosenek jest jednorazowe oraz dożywotnie\n",
    "\n",
    "- przygotowując zbiory uczące oraz testowe nie bierzemy pod uwagę sesji użytkowników, którzy kupili w przeszłości konto premium - nasz system może od razu sklasyfikować osoby, które kupiły już premium, jako osoby skłonne do kupienie premium"
   ]
  },
  {
   "attachments": {},
   "cell_type": "markdown",
   "metadata": {},
   "source": [
    "## Proponowane Kryterium Sukcesu\n",
    "TODO"
   ]
  },
  {
   "attachments": {},
   "cell_type": "markdown",
   "metadata": {},
   "source": [
    "## Analiza Danych\n"
   ]
  }
 ],
 "metadata": {
  "language_info": {
   "name": "python"
  },
  "orig_nbformat": 4
 },
 "nbformat": 4,
 "nbformat_minor": 2
}
